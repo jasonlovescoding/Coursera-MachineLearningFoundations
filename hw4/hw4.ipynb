{
 "cells": [
  {
   "cell_type": "markdown",
   "metadata": {},
   "source": [
    "Consider regularized linear regression (also called ridge regression) for classification\n",
    "\n",
    "$\\mathbf{w}_{reg} = argmin_w(\\frac{\\lambda}{N}\\|\\mathbf{w}\\|+\\frac{1}{N}\\|\\mathbf{X}\\mathbf{w}-\\mathbf{y}\\|^2)$\n",
    "\n",
    "Run the algorithm on the following data set as $\\mathcal{D}$:\n",
    "\n",
    "https://www.csie.ntu.edu.tw/~htlin/mooc/datasets/mlfound_algo/hw4_train.dat\n",
    "\n",
    "and the following set for evaluating $E_{out}$:\n",
    "\n",
    "https://www.csie.ntu.edu.tw/~htlin/mooc/datasets/mlfound_algo/hw4_test.dat\n",
    "\n",
    "Because the data sets are for classification, please consider only the 0/1 error for all Questions below.\n",
    "Break the tie by selecting the largest $\\lambda$. "
   ]
  },
  {
   "cell_type": "code",
   "execution_count": 1,
   "metadata": {},
   "outputs": [],
   "source": [
    "import numpy as np\n",
    "from sklearn.linear_model import RidgeClassifier\n",
    "import math\n",
    "\n",
    "data = np.genfromtxt('hw4_train.dat')\n",
    "X_train = data[:, :-1]\n",
    "y_train = data[:, -1]\n",
    "\n",
    "data = np.genfromtxt('hw4_test.dat')\n",
    "X_test = data[:, :-1]\n",
    "y_test = data[:, -1]"
   ]
  },
  {
   "cell_type": "markdown",
   "metadata": {},
   "source": [
    "$13.$ Let $\\lambda = 10$, what is the corresponding $E_{in}$ and $E_{out}$?"
   ]
  },
  {
   "cell_type": "code",
   "execution_count": 2,
   "metadata": {},
   "outputs": [
    {
     "name": "stdout",
     "output_type": "stream",
     "text": [
      "E_in: 0.035 \t E_out: 0.022\n"
     ]
    }
   ],
   "source": [
    "# run ridge regression\n",
    "LR = RidgeClassifier(alpha=10)\n",
    "LR.fit(X_train, y_train)\n",
    "\n",
    "# evaluate errors\n",
    "yin_pred = LR.predict(X_train) \n",
    "e_in = np.sum(yin_pred != y_train) / len(y_train)\n",
    "\n",
    "yout_pred = LR.predict(X_test)\n",
    "e_out = np.sum(yout_pred != y_test) / len(y_test)\n",
    "\n",
    "print(\"E_in: {} \\t E_out: {}\".format(e_in, e_out))"
   ]
  },
  {
   "cell_type": "markdown",
   "metadata": {},
   "source": [
    "Run the algorithm among $\\log_{10} \\lambda= \\left\\{2, 1, 0, -1, \\ldots, -8, -9. -10 \\right\\}$."
   ]
  },
  {
   "cell_type": "code",
   "execution_count": 3,
   "metadata": {},
   "outputs": [
    {
     "name": "stdout",
     "output_type": "stream",
     "text": [
      "log10(lambda): 2 \t E_in: 0.1 \t E_out: 0.091\n",
      "log10(lambda): 1 \t E_in: 0.035 \t E_out: 0.022\n",
      "log10(lambda): 0 \t E_in: 0.035 \t E_out: 0.017\n",
      "log10(lambda): -1 \t E_in: 0.03 \t E_out: 0.016\n",
      "log10(lambda): -2 \t E_in: 0.03 \t E_out: 0.016\n",
      "log10(lambda): -3 \t E_in: 0.03 \t E_out: 0.016\n",
      "log10(lambda): -4 \t E_in: 0.03 \t E_out: 0.016\n",
      "log10(lambda): -5 \t E_in: 0.03 \t E_out: 0.016\n",
      "log10(lambda): -6 \t E_in: 0.035 \t E_out: 0.016\n",
      "log10(lambda): -7 \t E_in: 0.03 \t E_out: 0.015\n",
      "log10(lambda): -8 \t E_in: 0.015 \t E_out: 0.02\n",
      "log10(lambda): -9 \t E_in: 0.015 \t E_out: 0.02\n",
      "log10(lambda): -10 \t E_in: 0.015 \t E_out: 0.02\n"
     ]
    }
   ],
   "source": [
    "for log10_lam in range(2, -11, -1):\n",
    "    # run ridge regression\n",
    "    LR = RidgeClassifier(alpha=math.pow(10, log10_lam))\n",
    "    LR.fit(X_train, y_train)\n",
    "\n",
    "    # evaluate errors\n",
    "    yin_pred = LR.predict(X_train) \n",
    "    e_in = np.sum(yin_pred != y_train) / len(y_train)\n",
    "\n",
    "    yout_pred = LR.predict(X_test)\n",
    "    e_out = np.sum(yout_pred != y_test) / len(y_test)\n",
    "\n",
    "    print(\"log10(lambda): {} \\t E_in: {} \\t E_out: {}\".format(log10_lam, e_in, e_out))"
   ]
  },
  {
   "cell_type": "markdown",
   "metadata": {},
   "source": [
    "$14.$ What is the $\\lambda$ with the minimum $E_{in}$?"
   ]
  },
  {
   "cell_type": "markdown",
   "metadata": {},
   "source": [
    "$\\lambda = 10^{-8}$"
   ]
  },
  {
   "cell_type": "markdown",
   "metadata": {},
   "source": [
    "$15.$ What is the $\\lambda$ with the minimum $E_{out}$?"
   ]
  },
  {
   "cell_type": "markdown",
   "metadata": {},
   "source": [
    "$\\lambda = 10^{-7}$"
   ]
  },
  {
   "cell_type": "markdown",
   "metadata": {},
   "source": [
    "Now split the given training examples in $\\mathcal{D}$ to the first 120 examples for $\\mathcal{D}_{\\text{train}} \n",
    "$ and 80 for $\\mathcal{D}_{\\text{val}}$.\n",
    "\n",
    "Ideally, you should randomly do the 120/80 split, because the given examples are already randomly permuted. \n",
    "However, we would use a fixed split for the purpose of this problem."
   ]
  },
  {
   "cell_type": "code",
   "execution_count": 4,
   "metadata": {},
   "outputs": [],
   "source": [
    "X_train, X_val = X_train[:120, :], X_train[120:, :]\n",
    "y_train, y_val = y_train[:120], y_train[120:]"
   ]
  },
  {
   "cell_type": "markdown",
   "metadata": {},
   "source": [
    "Run the algorithm on $\\mathcal{D}_{\\text{train}}$ to get $g^{-}_{\\lambda}$ with $\\mathcal{D}_{val}$."
   ]
  },
  {
   "cell_type": "code",
   "execution_count": 5,
   "metadata": {},
   "outputs": [
    {
     "name": "stdout",
     "output_type": "stream",
     "text": [
      "log10(lambda): 2 \t E_in: 0.2500 \t E_val:0.3250 \t E_out: 0.3030\n",
      "log10(lambda): 1 \t E_in: 0.0333 \t E_val:0.0625 \t E_out: 0.0430\n",
      "log10(lambda): 0 \t E_in: 0.0333 \t E_val:0.0375 \t E_out: 0.0220\n",
      "log10(lambda): -1 \t E_in: 0.0333 \t E_val:0.0375 \t E_out: 0.0210\n",
      "log10(lambda): -2 \t E_in: 0.0333 \t E_val:0.0375 \t E_out: 0.0210\n",
      "log10(lambda): -3 \t E_in: 0.0333 \t E_val:0.0375 \t E_out: 0.0210\n",
      "log10(lambda): -4 \t E_in: 0.0333 \t E_val:0.0375 \t E_out: 0.0210\n",
      "log10(lambda): -5 \t E_in: 0.0333 \t E_val:0.0375 \t E_out: 0.0210\n",
      "log10(lambda): -6 \t E_in: 0.0333 \t E_val:0.0375 \t E_out: 0.0210\n",
      "log10(lambda): -7 \t E_in: 0.0333 \t E_val:0.0375 \t E_out: 0.0210\n",
      "log10(lambda): -8 \t E_in: 0.0000 \t E_val:0.0500 \t E_out: 0.0250\n",
      "log10(lambda): -9 \t E_in: 0.0000 \t E_val:0.1000 \t E_out: 0.0380\n",
      "log10(lambda): -10 \t E_in: 0.0083 \t E_val:0.1250 \t E_out: 0.0400\n"
     ]
    }
   ],
   "source": [
    "for log10_lam in range(2, -11, -1):\n",
    "    # run ridge regression\n",
    "    LR = RidgeClassifier(alpha=math.pow(10, log10_lam))\n",
    "    LR.fit(X_train, y_train)\n",
    "\n",
    "    # evaluate errors\n",
    "    yin_pred = LR.predict(X_train) \n",
    "    e_in = np.sum(yin_pred != y_train) / len(y_train)\n",
    "    \n",
    "    yval_pred = LR.predict(X_val) \n",
    "    e_val = np.sum(yval_pred != y_val) / len(y_val)\n",
    "\n",
    "    yout_pred = LR.predict(X_test)\n",
    "    e_out = np.sum(yout_pred != y_test) / len(y_test)\n",
    "\n",
    "    print(\"log10(lambda): {} \\t E_in: {:.4f} \\t E_val:{:.4f} \\t E_out: {:.4f}\".format(log10_lam, e_in, e_val, e_out))"
   ]
  },
  {
   "cell_type": "markdown",
   "metadata": {},
   "source": [
    "$16.$ What is the $\\lambda$ with minimum $E_{train}(g^{-}_{\\lambda})$? "
   ]
  },
  {
   "cell_type": "markdown",
   "metadata": {},
   "source": [
    "$\\lambda = 10^{-8}$"
   ]
  },
  {
   "cell_type": "markdown",
   "metadata": {},
   "source": [
    "$17.$ What is the $\\lambda$ with minimum $E_{val}(g^{-}_{\\lambda})$? "
   ]
  },
  {
   "cell_type": "markdown",
   "metadata": {},
   "source": [
    "$\\lambda = 10^{0}$"
   ]
  },
  {
   "cell_type": "markdown",
   "metadata": {},
   "source": [
    "$18.$ With the optimal $\\lambda$ from the previous question, what are the values of $E_{in}(g_\\lambda)$ and $E_{out}(g_\\lambda)$?"
   ]
  },
  {
   "cell_type": "markdown",
   "metadata": {},
   "source": [
    "$E_{in}(g_\\lambda) = 0.0333$\n",
    "\n",
    "$E_{out}(g_\\lambda) = 0.0220$"
   ]
  },
  {
   "cell_type": "markdown",
   "metadata": {},
   "source": [
    "For Questions 19-20, split the given training examples in $\\mathcal{D}$ to five folds, the first 40 being fold 1, the next $40$ being fold $2$, and so on. Again, we take a fixed split because the given examples are already randomly permuted.\n",
    "\n"
   ]
  },
  {
   "cell_type": "code",
   "execution_count": 6,
   "metadata": {},
   "outputs": [],
   "source": [
    "X_1 = X_train[:40, :]\n",
    "y_1 = y_train[:40]\n",
    "\n",
    "X_2 = X_train[40:80, :]\n",
    "y_2 = y_train[40:80]\n",
    "\n",
    "X_3 = X_train[80:, :]\n",
    "y_3 = y_train[80:]\n",
    "\n",
    "X_4 = X_val[:40, :]\n",
    "y_4 = y_val[:40]\n",
    "\n",
    "X_5 = X_val[40:, :]\n",
    "y_5 = y_val[40:]"
   ]
  },
  {
   "cell_type": "code",
   "execution_count": 7,
   "metadata": {
    "collapsed": true
   },
   "outputs": [],
   "source": [
    "Xs = [X_1, X_2, X_3, X_4, X_5]\n",
    "ys = [y_1, y_2, y_3, y_4, y_5]"
   ]
  },
  {
   "cell_type": "markdown",
   "metadata": {},
   "source": [
    "$19.$ Run the algorithm with cross-validation among $\\log_{10} \\lambda= \\left\\{2, 1, 0, -1, \\ldots, -8, -9. -10 \\right\\}$."
   ]
  },
  {
   "cell_type": "code",
   "execution_count": 8,
   "metadata": {},
   "outputs": [
    {
     "name": "stdout",
     "output_type": "stream",
     "text": [
      "log10(lambda): 2 \t E_cv:0.1400\n",
      "log10(lambda): 1 \t E_cv:0.0400\n",
      "log10(lambda): 0 \t E_cv:0.0350\n",
      "log10(lambda): -1 \t E_cv:0.0350\n",
      "log10(lambda): -2 \t E_cv:0.0350\n",
      "log10(lambda): -3 \t E_cv:0.0350\n",
      "log10(lambda): -4 \t E_cv:0.0350\n",
      "log10(lambda): -5 \t E_cv:0.0350\n",
      "log10(lambda): -6 \t E_cv:0.0350\n",
      "log10(lambda): -7 \t E_cv:0.0350\n",
      "log10(lambda): -8 \t E_cv:0.0300\n",
      "log10(lambda): -9 \t E_cv:0.0500\n",
      "log10(lambda): -10 \t E_cv:0.0500\n"
     ]
    }
   ],
   "source": [
    "for log10_lam in range(2, -11, -1):\n",
    "    e_cv = []\n",
    "    \n",
    "    for v in range(5):\n",
    "        X_train = Xs[:v] \n",
    "        y_train = ys[:v]\n",
    "        if v + 1 < 5:\n",
    "            X_train += Xs[(v+1):]\n",
    "            y_train += ys[(v+1):]\n",
    "        X_train = np.vstack(X_train)\n",
    "        y_train = np.hstack(y_train)\n",
    "        \n",
    "        X_val = Xs[v]\n",
    "        y_val = ys[v]\n",
    "        \n",
    "        # run ridge regression\n",
    "        LR = RidgeClassifier(alpha=math.pow(10, log10_lam))\n",
    "        LR.fit(X_train, y_train)\n",
    "        \n",
    "        # evaluate errors\n",
    "        yval_pred = LR.predict(X_val) \n",
    "        e_val = np.sum(yval_pred != y_val) / len(y_val)\n",
    "\n",
    "        e_cv.append(e_val)\n",
    "    \n",
    "    e_cv = sum(e_cv) / len(e_cv)\n",
    "    print(\"log10(lambda): {} \\t E_cv:{:.4f}\".format(log10_lam, e_cv))"
   ]
  },
  {
   "cell_type": "markdown",
   "metadata": {},
   "source": [
    "Among $\\log_{10} \\lambda= \\left\\{2, 1, 0, -1, \\ldots, -8, -9, -10 \\right\\}$, what is the $\\lambda$ with minimum $E_{cv}$? "
   ]
  },
  {
   "cell_type": "markdown",
   "metadata": {},
   "source": [
    "$\\lambda = 10^{-8}$"
   ]
  },
  {
   "cell_type": "markdown",
   "metadata": {},
   "source": [
    "$20.$ With the optimal $\\lambda$ from the previous question, what are the values of $E_{in}(g_\\lambda)$ and $E_{out}(g_\\lambda)$ on the whole dataset $\\mathcal{D}$?"
   ]
  },
  {
   "cell_type": "code",
   "execution_count": 9,
   "metadata": {},
   "outputs": [
    {
     "name": "stdout",
     "output_type": "stream",
     "text": [
      "E_in: 0.015 \t E_out: 0.02\n"
     ]
    }
   ],
   "source": [
    "X_train = np.vstack([X_train, X_val])\n",
    "y_train = np.hstack([y_train, y_val])\n",
    "        \n",
    "# run ridge regression\n",
    "LR = RidgeClassifier(alpha=math.pow(10, -8))\n",
    "LR.fit(X_train, y_train)\n",
    "\n",
    "# evaluate errors\n",
    "yin_pred = LR.predict(X_train) \n",
    "e_in = np.sum(yin_pred != y_train) / len(y_train)\n",
    "\n",
    "yout_pred = LR.predict(X_test)\n",
    "e_out = np.sum(yout_pred != y_test) / len(y_test)\n",
    "\n",
    "print(\"E_in: {} \\t E_out: {}\".format(e_in, e_out))"
   ]
  }
 ],
 "metadata": {
  "kernelspec": {
   "display_name": "Python 3",
   "language": "python",
   "name": "python3"
  },
  "language_info": {
   "codemirror_mode": {
    "name": "ipython",
    "version": 3
   },
   "file_extension": ".py",
   "mimetype": "text/x-python",
   "name": "python",
   "nbconvert_exporter": "python",
   "pygments_lexer": "ipython3",
   "version": "3.6.3"
  }
 },
 "nbformat": 4,
 "nbformat_minor": 2
}
