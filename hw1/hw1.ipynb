{
 "cells": [
  {
   "cell_type": "code",
   "execution_count": 116,
   "metadata": {
    "collapsed": true
   },
   "outputs": [],
   "source": [
    "import numpy as np\n",
    "import scipy\n",
    "import random"
   ]
  },
  {
   "cell_type": "markdown",
   "metadata": {
    "collapsed": true
   },
   "source": [
    "For Questions 15-20, you will play with PLA and pocket algorithm. First, we use an artificial data set to study PLA. The data set is in\n",
    "\n",
    "https://www.csie.ntu.edu.tw/~htlin/mooc/datasets/mlfound_math/hw1_15_train.dat\n",
    "\n",
    "Each line of the data set contains one (xn,yn) with xn∈ℝ4. The first 4 numbers of the line contains the components of xn orderly, the last number is yn.\n",
    "\n",
    "Please initialize your algorithm with w=0 and take sign(0) as −1."
   ]
  },
  {
   "cell_type": "code",
   "execution_count": 32,
   "metadata": {
    "collapsed": true
   },
   "outputs": [],
   "source": [
    "data = np.genfromtxt('hw1_15_train.dat')\n",
    "X = data[:, :4]\n",
    "y = data[:, 4]"
   ]
  },
  {
   "cell_type": "code",
   "execution_count": 306,
   "metadata": {},
   "outputs": [],
   "source": [
    "class PLA:\n",
    "    \n",
    "    def __init__(self):\n",
    "        pass\n",
    "        \n",
    "    def fit(self, X, y, seed=None, learning_rate=1):\n",
    "        assert len(X.shape) == 2 and len(y.shape) == 1\n",
    "        assert X.shape[0] == y.shape[0]\n",
    "        X = np.hstack([np.ones([X.shape[0], 1]), X])\n",
    "        self.w = np.zeros(X.shape[1])\n",
    "        \n",
    "        indices = []\n",
    "        if seed is None:\n",
    "            indices = list(range(X.shape[0]))\n",
    "        else:\n",
    "            random.seed(seed)\n",
    "            indices = random.sample(range(X.shape[0]), X.shape[0])\n",
    "            \n",
    "        step = 0\n",
    "        update_count = 0\n",
    "        last_step = None # the last step it made a mistake\n",
    "        while True:\n",
    "            idx = indices[step]\n",
    "            x = X[idx]\n",
    "            t = y[idx]\n",
    "            prediction = np.sign(x.dot(self.w))\n",
    "            if prediction == 0:\n",
    "                prediction = -1 # as required in the problem\n",
    "                \n",
    "            if prediction != t:\n",
    "                self.w += (learning_rate * t) * x\n",
    "                last_step = step\n",
    "                update_count += 1\n",
    "            elif last_step == step: # halt when a full cycle meets no mistake\n",
    "                # for problem 15, 16, 17\n",
    "                return update_count\n",
    "            step = (step + 1) % X.shape[0]\n",
    "    \n",
    "    def fit_pocket(self, X, y, seed=None, update_bound=50, pocket=True):\n",
    "        assert len(X.shape) == 2 and len(y.shape) == 1\n",
    "        assert X.shape[0] == y.shape[0]\n",
    "        X = np.hstack([np.ones([X.shape[0], 1]), X])\n",
    "        self.w = np.zeros(X.shape[1])\n",
    "        \n",
    "        if not seed is None:\n",
    "            random.seed(seed)\n",
    "\n",
    "        update_count = 0\n",
    "        w_pocket = np.array(self.w)\n",
    "        while update_count < update_bound:\n",
    "            idx = random.randint(0, X.shape[0] - 1)\n",
    "            x = X[idx]\n",
    "            t = y[idx]\n",
    "            prediction = np.sign(x.dot(self.w))       \n",
    "            if prediction != t:\n",
    "                self.w += t * x\n",
    "                update_count += 1\n",
    "                predictions_before = [np.sign(x.dot(w_pocket)) for x in X]\n",
    "                predictions_after = [np.sign(x.dot(self.w)) for x in X]        \n",
    "                if sum(predictions_before == y) < sum(predictions_after == y):\n",
    "                    w_pocket = np.array(self.w)\n",
    "        if pocket:\n",
    "            self.w = w_pocket\n",
    "    \n",
    "    def predict(self, X):\n",
    "        X = np.hstack([np.ones([X.shape[0], 1]), X])\n",
    "        return [np.sign(x.dot(self.w)) for x in X]\n",
    "    \n",
    "    def accuracy(self, X, y):\n",
    "        # for problem 18, 19, 20\n",
    "        predictions = self.predict(X)\n",
    "        return sum(predictions == y) / len(y)\n",
    "pla = PLA()"
   ]
  },
  {
   "cell_type": "markdown",
   "metadata": {},
   "source": [
    "Implement a version of PLA by visiting examples in the naive cycle using the order of examples in the data set. Run the algorithm on the data set. What is the number of updates before the algorithm halts?"
   ]
  },
  {
   "cell_type": "code",
   "execution_count": 232,
   "metadata": {},
   "outputs": [
    {
     "name": "stdout",
     "output_type": "stream",
     "text": [
      "PLA halts at update 45\n"
     ]
    }
   ],
   "source": [
    "# problem 15\n",
    "update_count = pla.fit(X, y)\n",
    "print('PLA halts at update {}'.format(update_count))"
   ]
  },
  {
   "cell_type": "markdown",
   "metadata": {},
   "source": [
    "Implement a version of PLA by visiting examples in fixed, pre-determined random cycles throughout the algorithm. Run the algorithm on the data set. Please repeat your experiment for 2000 times, each with a different random seed. What is the average number of updates before the algorithm halts?"
   ]
  },
  {
   "cell_type": "code",
   "execution_count": 177,
   "metadata": {},
   "outputs": [
    {
     "name": "stdout",
     "output_type": "stream",
     "text": [
      "PLA halts at update 39.624 on average\n"
     ]
    }
   ],
   "source": [
    "# problem 16\n",
    "avg_update_count = 0\n",
    "for seed in range(2000):\n",
    "    avg_update_count += pla.fit(X, y, seed=seed)\n",
    "avg_update_count /= 2000\n",
    "print('PLA halts at update {} on average'.format(avg_update_count))"
   ]
  },
  {
   "cell_type": "markdown",
   "metadata": {},
   "source": [
    "\n",
    "Implement a version of PLA by visiting examples in fixed, pre-determined random cycles throughout the algorithm, while changing the update rule to be\n",
    "\n",
    "wt+1←wt+ηyn(t)xn(t)\n",
    "with η=0.5. Note that your PLA in the previous Question corresponds to η=1. Please repeat your experiment for 2000 times, each with a different random seed. What is the average number of updates before the algorithm halts?"
   ]
  },
  {
   "cell_type": "code",
   "execution_count": 131,
   "metadata": {},
   "outputs": [
    {
     "name": "stdout",
     "output_type": "stream",
     "text": [
      "PLA halts at update 39.624 on average with learning rate being 0.5\n"
     ]
    }
   ],
   "source": [
    "# problem 17\n",
    "avg_update_count = 0\n",
    "for seed in range(2000):\n",
    "    avg_update_count += pla.fit(X, y, seed=seed, learning_rate=0.5)\n",
    "avg_update_count /= 2000\n",
    "print('PLA halts at update {} on average with learning rate being 0.5'.format(avg_update_count))"
   ]
  },
  {
   "cell_type": "markdown",
   "metadata": {},
   "source": [
    "Next, we play with the pocket algorithm. Modify your PLA in Question 16 to visit examples purely randomly, and then add the \"pocket\" steps to the algorithm. We will use\n",
    "\n",
    "https://www.csie.ntu.edu.tw/~htlin/mooc/datasets/mlfound_math/hw1_18_train.dat\n",
    "\n",
    "as the training data set D, and\n",
    "\n",
    "https://www.csie.ntu.edu.tw/~htlin/mooc/datasets/mlfound_math/hw1_18_test.dat\n",
    "\n",
    "as the test set for \"verifying'' the g returned by your algorithm (see lecture 4 about verifying). \n",
    "The sets are of the same format as the previous one. "
   ]
  },
  {
   "cell_type": "code",
   "execution_count": 178,
   "metadata": {},
   "outputs": [],
   "source": [
    "data = np.genfromtxt('hw1_18_train.dat')\n",
    "X_train = data[:, :4]\n",
    "y_train = data[:, 4]"
   ]
  },
  {
   "cell_type": "code",
   "execution_count": 179,
   "metadata": {
    "collapsed": true
   },
   "outputs": [],
   "source": [
    "data = np.genfromtxt('hw1_18_test.dat')\n",
    "X_test = data[:, :4]\n",
    "y_test = data[:, 4]"
   ]
  },
  {
   "cell_type": "markdown",
   "metadata": {},
   "source": [
    "Run the pocket algorithm with a total of 50 updates on D , and verify the performance of wPOCKET using the test set. Please repeat your experiment for 2000 times, each with a different random seed. What is the average error rate on the test set?"
   ]
  },
  {
   "cell_type": "code",
   "execution_count": 307,
   "metadata": {},
   "outputs": [
    {
     "name": "stdout",
     "output_type": "stream",
     "text": [
      "PLA_pocket has an error rate of 0.1314200000000001 on average\n"
     ]
    }
   ],
   "source": [
    "# problem 18\n",
    "avg_error_rate = 0\n",
    "for seed in range(2000):\n",
    "    pla.fit_pocket(X_train, y_train, seed=seed, update_bound=50)\n",
    "    avg_error_rate += 1 - pla.accuracy(X_test, y_test)\n",
    "avg_error_rate /= 2000\n",
    "print('PLA_pocket has an error rate of {} on average'.format(avg_error_rate))"
   ]
  },
  {
   "cell_type": "markdown",
   "metadata": {},
   "source": [
    "Modify your algorithm in Question 18 to return w50 (the PLA vector after 50 updates) instead of w^ (the pocket vector) after 50 updates.\n",
    "\n",
    "Run the modified algorithm on D, and verify the performance using the test set.\n",
    "\n",
    "Please repeat your experiment for 2000 times, each with a different random seed. What is the average error rate on the test set?"
   ]
  },
  {
   "cell_type": "code",
   "execution_count": 310,
   "metadata": {},
   "outputs": [
    {
     "name": "stdout",
     "output_type": "stream",
     "text": [
      "PLA has an error rate of 0.37333999999999995 on average\n"
     ]
    }
   ],
   "source": [
    "# problem 19\n",
    "avg_error_rate = 0\n",
    "for seed in range(2000):\n",
    "    pla.fit_pocket(X_train, y_train, seed=seed, update_bound=50, pocket=False)\n",
    "    avg_error_rate += 1 - pla.accuracy(X_test, y_test)\n",
    "avg_error_rate /= 2000\n",
    "print('PLA has an error rate of {} on average'.format(avg_error_rate))"
   ]
  },
  {
   "cell_type": "markdown",
   "metadata": {},
   "source": [
    "Modify your algorithm in Question 18 to run for 100 updates instead of 50, and verify the performance of wPOCKET using the test set. Please repeat your experiment for 2000 times, each with a different random seed. What is the average error rate on the test set?"
   ]
  },
  {
   "cell_type": "code",
   "execution_count": 312,
   "metadata": {},
   "outputs": [
    {
     "name": "stdout",
     "output_type": "stream",
     "text": [
      "PLA_pocket has an error rate of 0.11512000000000003 on average with update bound being 100\n"
     ]
    }
   ],
   "source": [
    "# problem 20\n",
    "avg_error_rate = 0\n",
    "for seed in range(2000):\n",
    "    pla.fit_pocket(X_train, y_train, seed=seed, update_bound=100)\n",
    "    avg_error_rate += 1 - pla.accuracy(X_test, y_test)\n",
    "avg_error_rate /= 2000\n",
    "print('PLA_pocket has an error rate of {} on average with update bound being 100'.format(avg_error_rate))"
   ]
  }
 ],
 "metadata": {
  "kernelspec": {
   "display_name": "Python 3",
   "language": "python",
   "name": "python3"
  },
  "language_info": {
   "codemirror_mode": {
    "name": "ipython",
    "version": 3
   },
   "file_extension": ".py",
   "mimetype": "text/x-python",
   "name": "python",
   "nbconvert_exporter": "python",
   "pygments_lexer": "ipython3",
   "version": "3.6.1"
  }
 },
 "nbformat": 4,
 "nbformat_minor": 2
}
